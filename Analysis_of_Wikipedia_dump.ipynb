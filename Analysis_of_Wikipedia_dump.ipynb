{
 "cells": [
  {
   "cell_type": "markdown",
   "id": "df0c15dd",
   "metadata": {},
   "source": [
    "## Spark RDDs\n",
    "\n",
    "### Loading data into an RDD\n",
    "\n",
    "We load the data into an RDD consisting of string elements, each element corresponding to the text of a Wikipedia page. Precisely, each RDD element should be a string equal to the text enclosed within `<page>` and `</page>` XML tags in the input dataset with carriage-return characters (`\\n`) removed."
   ]
  },
  {
   "cell_type": "code",
   "execution_count": 1,
   "id": "c65c2bde",
   "metadata": {},
   "outputs": [
    {
     "name": "stdout",
     "output_type": "stream",
     "text": [
      "--2024-02-23 14:23:06--  https://dumps.wikimedia.org/enwiki/latest/enwiki-latest-pages-articles1.xml-p1p41242.bz2\n",
      "Resolving dumps.wikimedia.org (dumps.wikimedia.org)... 208.80.154.71, 2620:0:861:3:208:80:154:71\n",
      "Connecting to dumps.wikimedia.org (dumps.wikimedia.org)|208.80.154.71|:443... connected.\n",
      "HTTP request sent, awaiting response... 200 OK\n",
      "Length: 276785341 (264M) [application/octet-stream]\n",
      "Saving to: ‘enwiki-latest-pages-articles1.xml-p1p41242.bz2’\n",
      "\n",
      "enwiki-latest-pages 100%[===================>] 263.96M  4.29MB/s    in 60s     \n",
      "\n",
      "2024-02-23 14:24:06 (4.42 MB/s) - ‘enwiki-latest-pages-articles1.xml-p1p41242.bz2’ saved [276785341/276785341]\n",
      "\n"
     ]
    }
   ],
   "source": [
    "# Wikipedia dump\n",
    "# we use the enwiki-latest-pages-articles1.xml-p1p41242.bz2 dump\n",
    "!wget https://dumps.wikimedia.org/enwiki/latest/enwiki-latest-pages-articles1.xml-p1p41242.bz2\n",
    "# decompress the file\n",
    "!bzip2 -d enwiki-latest-pages-articles1.xml-p1p41242.bz2\n",
    "# rename the uncompressed file to an XML format\n",
    "!mv enwiki-latest-pages-articles1.xml-p1p41242 enwiki-latest-pages-articles1.xml\n",
    "# move to Hadoop Namenode\n",
    "!hadoop fs -put enwiki-latest-pages-articles1.xml /"
   ]
  },
  {
   "cell_type": "code",
   "execution_count": 2,
   "id": "cccd5edd",
   "metadata": {},
   "outputs": [],
   "source": [
    "# adjust to reflect the cluster name and Hadoop masternode (IP port) of your cluster\n",
    "path = \"hdfs://st446-cluster-a01-m:8020/enwiki-latest-pages-articles1.xml\""
   ]
  },
  {
   "cell_type": "code",
   "execution_count": 3,
   "id": "9d88c5e7",
   "metadata": {},
   "outputs": [
    {
     "name": "stderr",
     "output_type": "stream",
     "text": [
      "                                                                                \r"
     ]
    },
    {
     "data": {
      "text/html": [
       "<div>\n",
       "<style scoped>\n",
       "    .dataframe tbody tr th:only-of-type {\n",
       "        vertical-align: middle;\n",
       "    }\n",
       "\n",
       "    .dataframe tbody tr th {\n",
       "        vertical-align: top;\n",
       "    }\n",
       "\n",
       "    .dataframe thead th {\n",
       "        text-align: right;\n",
       "    }\n",
       "</style>\n",
       "<table border=\"1\" class=\"dataframe\">\n",
       "  <thead>\n",
       "    <tr style=\"text-align: right;\">\n",
       "      <th></th>\n",
       "      <th>value</th>\n",
       "    </tr>\n",
       "  </thead>\n",
       "  <tbody>\n",
       "    <tr>\n",
       "      <th>0</th>\n",
       "      <td>&lt;mediawiki xmlns=\"http://www.mediawiki.org/xml...</td>\n",
       "    </tr>\n",
       "    <tr>\n",
       "      <th>1</th>\n",
       "      <td>\\n  &lt;page&gt;\\n    &lt;title&gt;Anarchism&lt;/title&gt;\\n    ...</td>\n",
       "    </tr>\n",
       "    <tr>\n",
       "      <th>2</th>\n",
       "      <td>\\n  &lt;page&gt;\\n    &lt;title&gt;AfghanistanHistory&lt;/tit...</td>\n",
       "    </tr>\n",
       "    <tr>\n",
       "      <th>3</th>\n",
       "      <td>\\n  &lt;page&gt;\\n    &lt;title&gt;AfghanistanGeography&lt;/t...</td>\n",
       "    </tr>\n",
       "    <tr>\n",
       "      <th>4</th>\n",
       "      <td>\\n  &lt;page&gt;\\n    &lt;title&gt;AfghanistanPeople&lt;/titl...</td>\n",
       "    </tr>\n",
       "    <tr>\n",
       "      <th>5</th>\n",
       "      <td>\\n  &lt;page&gt;\\n    &lt;title&gt;AfghanistanCommunicatio...</td>\n",
       "    </tr>\n",
       "    <tr>\n",
       "      <th>6</th>\n",
       "      <td>\\n  &lt;page&gt;\\n    &lt;title&gt;AfghanistanTransportati...</td>\n",
       "    </tr>\n",
       "    <tr>\n",
       "      <th>7</th>\n",
       "      <td>\\n  &lt;page&gt;\\n    &lt;title&gt;AfghanistanMilitary&lt;/ti...</td>\n",
       "    </tr>\n",
       "    <tr>\n",
       "      <th>8</th>\n",
       "      <td>\\n  &lt;page&gt;\\n    &lt;title&gt;AfghanistanTransnationa...</td>\n",
       "    </tr>\n",
       "    <tr>\n",
       "      <th>9</th>\n",
       "      <td>\\n  &lt;page&gt;\\n    &lt;title&gt;AssistiveTechnology&lt;/ti...</td>\n",
       "    </tr>\n",
       "  </tbody>\n",
       "</table>\n",
       "</div>"
      ],
      "text/plain": [
       "                                               value\n",
       "0  <mediawiki xmlns=\"http://www.mediawiki.org/xml...\n",
       "1  \\n  <page>\\n    <title>Anarchism</title>\\n    ...\n",
       "2  \\n  <page>\\n    <title>AfghanistanHistory</tit...\n",
       "3  \\n  <page>\\n    <title>AfghanistanGeography</t...\n",
       "4  \\n  <page>\\n    <title>AfghanistanPeople</titl...\n",
       "5  \\n  <page>\\n    <title>AfghanistanCommunicatio...\n",
       "6  \\n  <page>\\n    <title>AfghanistanTransportati...\n",
       "7  \\n  <page>\\n    <title>AfghanistanMilitary</ti...\n",
       "8  \\n  <page>\\n    <title>AfghanistanTransnationa...\n",
       "9  \\n  <page>\\n    <title>AssistiveTechnology</ti..."
      ]
     },
     "execution_count": 3,
     "metadata": {},
     "output_type": "execute_result"
    }
   ],
   "source": [
    "# initial Dataframe\n",
    "# pages are separated by <page> and </page>\n",
    "df1 = spark.read.text(path, lineSep=\"</page>\")\n",
    "df1.limit(10).toPandas()"
   ]
  },
  {
   "cell_type": "code",
   "execution_count": 4,
   "id": "35e1a8c6",
   "metadata": {},
   "outputs": [],
   "source": [
    "# accessing RDD element attached to the Dataframe\n",
    "rdd1 = df1.rdd"
   ]
  },
  {
   "cell_type": "markdown",
   "id": "32f6c30c",
   "metadata": {},
   "source": [
    "---\n",
    "\n",
    "**Additional check** to get a better idea of how the data (RDD) is structured."
   ]
  },
  {
   "cell_type": "code",
   "execution_count": 5,
   "id": "622aeb52",
   "metadata": {},
   "outputs": [
    {
     "data": {
      "text/plain": [
       "8"
      ]
     },
     "execution_count": 5,
     "metadata": {},
     "output_type": "execute_result"
    }
   ],
   "source": [
    "# numPartitions depend on the cluster machine being used\n",
    "# for instance, N2 4 vCPUs will give you 8 partitions\n",
    "rdd1.getNumPartitions()"
   ]
  },
  {
   "cell_type": "code",
   "execution_count": 6,
   "id": "1607004e",
   "metadata": {},
   "outputs": [
    {
     "name": "stderr",
     "output_type": "stream",
     "text": [
      "                                                                                \r"
     ]
    },
    {
     "data": {
      "text/plain": [
       "[Row(value='<mediawiki xmlns=\"http://www.mediawiki.org/xml/export-0.10/\" xmlns:xsi=\"http://www.w3.org/2001/XMLSchema-instance\" xsi:schemaLocation=\"http://www.mediawiki.org/xml/export-0.10/ http://www.mediawiki.org/xml/export-0.10.xsd\" version=\"0.10\" xml:lang=\"en\">\\n  <siteinfo>\\n    <sitename>Wikipedia</sitename>\\n    <dbname>enwiki</dbname>\\n    <base>https://en.wikipedia.org/wiki/Main_Page</base>\\n    <generator>MediaWiki 1.42.0-wmf.18</generator>\\n    <case>first-letter</case>\\n    <namespaces>\\n      <namespace key=\"-2\" case=\"first-letter\">Media</namespace>\\n      <namespace key=\"-1\" case=\"first-letter\">Special</namespace>\\n      <namespace key=\"0\" case=\"first-letter\" />\\n      <namespace key=\"1\" case=\"first-letter\">Talk</namespace>\\n      <namespace key=\"2\" case=\"first-letter\">User</namespace>\\n      <namespace key=\"3\" case=\"first-letter\">User talk</namespace>\\n      <namespace key=\"4\" case=\"first-letter\">Wikipedia</namespace>\\n      <namespace key=\"5\" case=\"first-letter\">Wikipedia talk</namespace>\\n      <namespace key=\"6\" case=\"first-letter\">File</namespace>\\n      <namespace key=\"7\" case=\"first-letter\">File talk</namespace>\\n      <namespace key=\"8\" case=\"first-letter\">MediaWiki</namespace>\\n      <namespace key=\"9\" case=\"first-letter\">MediaWiki talk</namespace>\\n      <namespace key=\"10\" case=\"first-letter\">Template</namespace>\\n      <namespace key=\"11\" case=\"first-letter\">Template talk</namespace>\\n      <namespace key=\"12\" case=\"first-letter\">Help</namespace>\\n      <namespace key=\"13\" case=\"first-letter\">Help talk</namespace>\\n      <namespace key=\"14\" case=\"first-letter\">Category</namespace>\\n      <namespace key=\"15\" case=\"first-letter\">Category talk</namespace>\\n      <namespace key=\"100\" case=\"first-letter\">Portal</namespace>\\n      <namespace key=\"101\" case=\"first-letter\">Portal talk</namespace>\\n      <namespace key=\"118\" case=\"first-letter\">Draft</namespace>\\n      <namespace key=\"119\" case=\"first-letter\">Draft talk</namespace>\\n      <namespace key=\"710\" case=\"first-letter\">TimedText</namespace>\\n      <namespace key=\"711\" case=\"first-letter\">TimedText talk</namespace>\\n      <namespace key=\"828\" case=\"first-letter\">Module</namespace>\\n      <namespace key=\"829\" case=\"first-letter\">Module talk</namespace>\\n      <namespace key=\"2300\" case=\"case-sensitive\">Gadget</namespace>\\n      <namespace key=\"2301\" case=\"case-sensitive\">Gadget talk</namespace>\\n      <namespace key=\"2302\" case=\"case-sensitive\">Gadget definition</namespace>\\n      <namespace key=\"2303\" case=\"case-sensitive\">Gadget definition talk</namespace>\\n    </namespaces>\\n  </siteinfo>\\n  <page>\\n    <title>AccessibleComputing</title>\\n    <ns>0</ns>\\n    <id>10</id>\\n    <redirect title=\"Computer accessibility\" />\\n    <revision>\\n      <id>1002250816</id>\\n      <parentid>854851586</parentid>\\n      <timestamp>2021-01-23T15:15:01Z</timestamp>\\n      <contributor>\\n        <username>Elli</username>\\n        <id>20842734</id>\\n      </contributor>\\n      <minor />\\n      <comment>shel</comment>\\n      <model>wikitext</model>\\n      <format>text/x-wiki</format>\\n      <text bytes=\"111\" xml:space=\"preserve\">#REDIRECT [[Computer accessibility]]\\n\\n{{rcat shell|\\n{{R from move}}\\n{{R from CamelCase}}\\n{{R unprintworthy}}\\n}}</text>\\n      <sha1>kmysdltgexdwkv2xsml3j44jb56dxvn</sha1>\\n    </revision>\\n  ')]"
      ]
     },
     "execution_count": 6,
     "metadata": {},
     "output_type": "execute_result"
    }
   ],
   "source": [
    "# first element\n",
    "rdd1.take(1)"
   ]
  },
  {
   "cell_type": "code",
   "execution_count": 7,
   "id": "05ace3e8",
   "metadata": {},
   "outputs": [],
   "source": [
    "# RDD2: all rows containing <page>\n",
    "rdd2 = rdd1.filter(lambda row: \"<page>\" in row[0])"
   ]
  },
  {
   "cell_type": "code",
   "execution_count": 8,
   "id": "29ade4f0",
   "metadata": {},
   "outputs": [],
   "source": [
    "# split RDD2 based on <page> and with no carriage returns\n",
    "rdd2 = rdd2.map(lambda row: row[0].split(\"<page>\")[1].replace(\"\\n\", \"\"))"
   ]
  },
  {
   "cell_type": "code",
   "execution_count": 9,
   "id": "09144462",
   "metadata": {},
   "outputs": [
    {
     "data": {
      "text/plain": [
       "['    <title>AccessibleComputing</title>    <ns>0</ns>    <id>10</id>    <redirect title=\"Computer accessibility\" />    <revision>      <id>1002250816</id>      <parentid>854851586</parentid>      <timestamp>2021-01-23T15:15:01Z</timestamp>      <contributor>        <username>Elli</username>        <id>20842734</id>      </contributor>      <minor />      <comment>shel</comment>      <model>wikitext</model>      <format>text/x-wiki</format>      <text bytes=\"111\" xml:space=\"preserve\">#REDIRECT [[Computer accessibility]]{{rcat shell|{{R from move}}{{R from CamelCase}}{{R unprintworthy}}}}</text>      <sha1>kmysdltgexdwkv2xsml3j44jb56dxvn</sha1>    </revision>  ']"
      ]
     },
     "execution_count": 9,
     "metadata": {},
     "output_type": "execute_result"
    }
   ],
   "source": [
    "# first element of RDD2\n",
    "rdd2.take(1)"
   ]
  },
  {
   "cell_type": "code",
   "execution_count": 10,
   "id": "90d9b70f",
   "metadata": {},
   "outputs": [
    {
     "name": "stderr",
     "output_type": "stream",
     "text": [
      "                                                                                \r"
     ]
    },
    {
     "data": {
      "text/plain": [
       "27376"
      ]
     },
     "execution_count": 10,
     "metadata": {},
     "output_type": "execute_result"
    }
   ],
   "source": [
    "# number of elements in RDD2\n",
    "rdd2.count()"
   ]
  },
  {
   "cell_type": "markdown",
   "id": "374a448e",
   "metadata": {},
   "source": [
    "### Number of categories per page"
   ]
  },
  {
   "cell_type": "markdown",
   "id": "5ffc2008-6120-4570-a4a3-961706d837f5",
   "metadata": {},
   "source": [
    "Some Wikipedia pages contain information about categories to which they belong. For those Wikipedia pages, there can be one or more categories indicated in the Wikipedia dump file. We will create a key-value pair RDD with keys corresponding to page IDs and values corresponding to the number of categories of the corresponding page."
   ]
  },
  {
   "cell_type": "code",
   "execution_count": 11,
   "id": "5e69e48d",
   "metadata": {},
   "outputs": [],
   "source": [
    "def page_id(wikipage):\n",
    "    start = wikipage.find('<id>') + len('<id>')\n",
    "    end = wikipage.find('</id>', start)\n",
    "    if start != -1 and end != -1:\n",
    "        return wikipage[start:end]\n",
    "    else:\n",
    "        return None"
   ]
  },
  {
   "cell_type": "code",
   "execution_count": 12,
   "id": "851dcf34",
   "metadata": {},
   "outputs": [],
   "source": [
    "def no_of_categories(wikipage):\n",
    "    category_count = wikipage.count(\"[[Category:\")\n",
    "    return category_count"
   ]
  },
  {
   "cell_type": "code",
   "execution_count": 77,
   "id": "fd826bcf",
   "metadata": {},
   "outputs": [
    {
     "name": "stderr",
     "output_type": "stream",
     "text": [
      "                                                                                \r"
     ]
    },
    {
     "data": {
      "text/plain": [
       "[(19856, 233),\n",
       " (6198, 230),\n",
       " (32753, 221),\n",
       " (22107, 218),\n",
       " (16775, 215),\n",
       " (31898, 214),\n",
       " (6201, 213),\n",
       " (32124, 208),\n",
       " (31940, 198),\n",
       " (7851, 181)]"
      ]
     },
     "execution_count": 77,
     "metadata": {},
     "output_type": "execute_result"
    }
   ],
   "source": [
    "c_rdd = rdd2.map(lambda x: (int(page_id(x)), no_of_categories(x))) \\\n",
    "            .filter(lambda x: x[1] > 0) \\\n",
    "            .reduceByKey(lambda x,y: x+y) \n",
    "output = c_rdd.takeOrdered(10, lambda k_v: -k_v[1])\n",
    "output"
   ]
  },
  {
   "cell_type": "markdown",
   "id": "5abd594d",
   "metadata": {},
   "source": [
    "### Finding the Top contributors"
   ]
  },
  {
   "cell_type": "markdown",
   "id": "4f119ba5-a6d4-4de1-8679-614472b78d3a",
   "metadata": {},
   "source": [
    "We will analyse the amount of contributions made by contributors in terms of the number of page revisions."
   ]
  },
  {
   "cell_type": "code",
   "execution_count": 14,
   "id": "5db9ec2f",
   "metadata": {},
   "outputs": [],
   "source": [
    "def contributor_id(wikipage):\n",
    "    start = wikipage.find('<contributor>')\n",
    "    end = wikipage.find('</contributor>', start)\n",
    "    if start != -1 and end != -1:\n",
    "        start1 = wikipage.find('<id>', start, end) + len('<id>')\n",
    "        end1 = wikipage.find('</id>', start1, end)\n",
    "        if start1 != -1 and end1 != -1:\n",
    "            return wikipage[start1:end1]"
   ]
  },
  {
   "cell_type": "code",
   "execution_count": 15,
   "id": "86996424",
   "metadata": {},
   "outputs": [],
   "source": [
    "def contributor_name(wikipage):\n",
    "    start = wikipage.find('<username>') + len('<username>')\n",
    "    end = wikipage.find('</username>', start)\n",
    "    if start != -1 and end != -1:\n",
    "        return wikipage[start:end]\n",
    "    else:\n",
    "        return None"
   ]
  },
  {
   "cell_type": "code",
   "execution_count": 16,
   "id": "b90183c4",
   "metadata": {},
   "outputs": [],
   "source": [
    "#key-value pair RDD with keys corresponding to page IDs and the value corresponding to contributor IDs\n",
    "page_contributor_rdd = rdd2.map(lambda x: (page_id(x), contributor_id(x))) \\\n",
    "                           .map(lambda x: (x[1], 1)) \\\n",
    "                           .reduceByKey(lambda x, y: x + y)"
   ]
  },
  {
   "cell_type": "code",
   "execution_count": 17,
   "id": "23752347",
   "metadata": {},
   "outputs": [
    {
     "name": "stderr",
     "output_type": "stream",
     "text": [
      "                                                                                \r"
     ]
    },
    {
     "data": {
      "text/plain": [
       "[('32990417', 24), ('41234605', 1)]"
      ]
     },
     "execution_count": 17,
     "metadata": {},
     "output_type": "execute_result"
    }
   ],
   "source": [
    "page_contributor_rdd.take(2)"
   ]
  },
  {
   "cell_type": "code",
   "execution_count": 18,
   "id": "17006eaa",
   "metadata": {},
   "outputs": [],
   "source": [
    "#key-value pair RDD with keys corresponding to contributor IDs and values corresponding to contributor names\n",
    "contributor_name_rdd = rdd2.map(lambda x: (contributor_id(x), contributor_name(x))) \\\n",
    "                           .filter(lambda x: x[0] is not None and x[1] is not None).distinct()"
   ]
  },
  {
   "cell_type": "code",
   "execution_count": 19,
   "id": "7b5cef75",
   "metadata": {},
   "outputs": [
    {
     "name": "stderr",
     "output_type": "stream",
     "text": [
      "                                                                                \r"
     ]
    },
    {
     "data": {
      "text/plain": [
       "[('20842734', 'Elli'), ('244263', 'Czar')]"
      ]
     },
     "execution_count": 19,
     "metadata": {},
     "output_type": "execute_result"
    }
   ],
   "source": [
    "contributor_name_rdd.take(2)"
   ]
  },
  {
   "cell_type": "code",
   "execution_count": 136,
   "id": "a7fe2269",
   "metadata": {},
   "outputs": [
    {
     "name": "stderr",
     "output_type": "stream",
     "text": [
      "                                                                                \r"
     ]
    },
    {
     "data": {
      "text/plain": [
       "[(7903804, (1266, 'Citation bot')),\n",
       " (9784415, (1204, 'Tom.Reding')),\n",
       " (194203, (432, 'Graham87')),\n",
       " (20836525, (395, '1234qwer1234qwer4')),\n",
       " (212624, (362, 'MZMcBride')),\n",
       " (27015025, (355, 'InternetArchiveBot')),\n",
       " (27823944, (275, 'GreenC bot')),\n",
       " (44120587, (266, 'HeyElliott')),\n",
       " (8066546, (232, 'Xqbot')),\n",
       " (35936988, (203, 'JJMC89 bot III'))]"
      ]
     },
     "execution_count": 136,
     "metadata": {},
     "output_type": "execute_result"
    }
   ],
   "source": [
    "#key-value pair RDD with keys corresponding to contributor IDs and values corresponding to a tuple with the first element \n",
    "#corresponding to the number of pages revised by the contributor and the second element corresponding to the contributor's name\n",
    "pair_rdd = page_contributor_rdd.join(contributor_name_rdd) \\\n",
    "                               .map(lambda x: (int(x[0]), (x[1][0], x[1][1])))\n",
    "\n",
    "output = pair_rdd.sortBy(lambda k_v: -k_v[1][0])\n",
    "output.take(10)"
   ]
  },
  {
   "cell_type": "markdown",
   "id": "90c8139f-5b45-4041-bbbc-1ed181ff7ebd",
   "metadata": {},
   "source": [
    "Here, we have the top 10 contributors in decreasing order of the number of pages revised by them."
   ]
  },
  {
   "cell_type": "markdown",
   "id": "e34df650",
   "metadata": {},
   "source": [
    "## Spark Dataframes\n",
    "\n",
    "### Creating a dataframe\n",
    "\n",
    "We will create a dataframe having the columns pade_id, title, contributor, categories, and revision_ts."
   ]
  },
  {
   "cell_type": "code",
   "execution_count": 21,
   "id": "0a70a8e4",
   "metadata": {},
   "outputs": [],
   "source": [
    "from pyspark.sql.types import StructType, StructField, StringType, LongType, ArrayType, TimestampType, IntegerType\n",
    "import pyspark.sql.functions as sql_f\n",
    "from datetime import datetime"
   ]
  },
  {
   "cell_type": "code",
   "execution_count": 22,
   "id": "df890391",
   "metadata": {},
   "outputs": [],
   "source": [
    "def extract_title(wikipage):\n",
    "    start = wikipage.find('<title>') + len('<title>')\n",
    "    end = wikipage.find('</title>', start)\n",
    "    if start != -1 and end != -1:\n",
    "        return wikipage[start:end]\n",
    "    else:\n",
    "        return None"
   ]
  },
  {
   "cell_type": "code",
   "execution_count": 23,
   "id": "620fd1f3",
   "metadata": {},
   "outputs": [],
   "source": [
    "def contributor_id(wikipage):\n",
    "    start = wikipage.find('<id>', wikipage.find('<contributor>')) + len('<id>')\n",
    "    end = wikipage.find('</id>', start)\n",
    "    if start != -1 and end != -1:\n",
    "        id_str = wikipage[start:end].strip()  #removing leading and trailing whitespace\n",
    "        try:\n",
    "            return int(id_str)\n",
    "        except ValueError:\n",
    "            return None\n",
    "    else:\n",
    "        return None"
   ]
  },
  {
   "cell_type": "code",
   "execution_count": 24,
   "id": "cc18dee6",
   "metadata": {},
   "outputs": [],
   "source": [
    "def extract_categories(wikipage):\n",
    "    categories = []\n",
    "    start = 0\n",
    "    while True:\n",
    "        start = wikipage.find(\"[[Category:\", start)\n",
    "        if start == -1:\n",
    "            break\n",
    "        end = wikipage.find(\"]]\", start)\n",
    "        if end != -1:\n",
    "            categories.append(wikipage[start+len(\"[[Category:\"):end])\n",
    "            start = end + 1\n",
    "        else:\n",
    "            break\n",
    "    return categories"
   ]
  },
  {
   "cell_type": "code",
   "execution_count": 25,
   "id": "1aa94fd3",
   "metadata": {},
   "outputs": [],
   "source": [
    "def extract_revision_ts(wikipage):\n",
    "    start = wikipage.find('<timestamp>') + len('<timestamp>')\n",
    "    end = wikipage.find('</timestamp>', start)\n",
    "    if start != -1 and end != -1:\n",
    "        revision_ts_str = wikipage[start:end]\n",
    "        return datetime.strptime(revision_ts_str, \"%Y-%m-%dT%H:%M:%SZ\")\n",
    "    else:\n",
    "        return None"
   ]
  },
  {
   "cell_type": "code",
   "execution_count": 86,
   "id": "60530c1e",
   "metadata": {},
   "outputs": [],
   "source": [
    "myschema = StructType([\n",
    "    StructField('page_id', LongType(), True),\n",
    "    StructField('title', StringType(), True),\n",
    "    StructField('contributor', StructType([StructField('contributor_id', LongType(), True),\n",
    "                                            StructField('username', StringType(), True)]), True),\n",
    "    StructField('categories', ArrayType(StringType()), True),\n",
    "    StructField('revision_ts', TimestampType(), True)\n",
    "])"
   ]
  },
  {
   "cell_type": "code",
   "execution_count": 91,
   "id": "8a043c16",
   "metadata": {},
   "outputs": [],
   "source": [
    "from pyspark.sql import Row\n",
    "\n",
    "#converting our rdd to an rdd to type Row as its needed for us to be able to use the method createDataFrame\n",
    "rows = rdd2.map(lambda x: Row(page_id=int(page_id(x)), \n",
    "                              title=extract_title(x), \n",
    "                              contributor=(contributor_id(x), contributor_name(x)), \n",
    "                              categories=extract_categories(x), \n",
    "                              revision_ts=extract_revision_ts(x)))"
   ]
  },
  {
   "cell_type": "code",
   "execution_count": 92,
   "id": "1023d68e",
   "metadata": {},
   "outputs": [],
   "source": [
    "df = spark.createDataFrame(rows, schema=myschema) #creating our dataframe"
   ]
  },
  {
   "cell_type": "markdown",
   "id": "0740665e",
   "metadata": {},
   "source": [
    "#### Showing the schema"
   ]
  },
  {
   "cell_type": "code",
   "execution_count": 93,
   "id": "fb35d9a5",
   "metadata": {},
   "outputs": [
    {
     "name": "stdout",
     "output_type": "stream",
     "text": [
      "root\n",
      " |-- page_id: long (nullable = true)\n",
      " |-- title: string (nullable = true)\n",
      " |-- contributor: struct (nullable = true)\n",
      " |    |-- contributor_id: long (nullable = true)\n",
      " |    |-- username: string (nullable = true)\n",
      " |-- categories: array (nullable = true)\n",
      " |    |-- element: string (containsNull = true)\n",
      " |-- revision_ts: timestamp (nullable = true)\n",
      "\n"
     ]
    }
   ],
   "source": [
    "df.printSchema()"
   ]
  },
  {
   "cell_type": "markdown",
   "id": "0e2d28fa",
   "metadata": {},
   "source": [
    "#### Showing the first 10 rows"
   ]
  },
  {
   "cell_type": "code",
   "execution_count": 94,
   "id": "4befe467",
   "metadata": {},
   "outputs": [
    {
     "name": "stdout",
     "output_type": "stream",
     "text": [
      "+-------+--------------------+--------------------+--------------------+-------------------+\n",
      "|page_id|               title|         contributor|          categories|        revision_ts|\n",
      "+-------+--------------------+--------------------+--------------------+-------------------+\n",
      "|     10| AccessibleComputing|    {20842734, Elli}|                  []|2021-01-23 15:15:01|\n",
      "|     12|           Anarchism|      {244263, Czar}|[Anarchism| , Ant...|2024-02-17 15:33:05|\n",
      "|     13|  AfghanistanHistory|{9784415, Tom.Red...|                  []|2017-06-05 04:18:18|\n",
      "|     14|AfghanistanGeography|{9784415, Tom.Red...|                  []|2017-06-05 04:18:23|\n",
      "|     15|   AfghanistanPeople|{9784415, Tom.Red...|                  []|2017-06-05 04:19:42|\n",
      "|     18|AfghanistanCommun...|{9784415, Tom.Red...|                  []|2017-06-05 04:19:45|\n",
      "|     19|AfghanistanTransp...|{9784415, Tom.Red...|                  []|2017-06-04 21:42:11|\n",
      "|     20| AfghanistanMilitary|    {8066546, Xqbot}|                  []|2022-12-02 12:29:21|\n",
      "|     21|AfghanistanTransn...|{9784415, Tom.Red...|                  []|2017-06-04 21:43:14|\n",
      "|     23| AssistiveTechnology|{9784415, Tom.Red...|                  []|2017-06-05 04:19:50|\n",
      "+-------+--------------------+--------------------+--------------------+-------------------+\n",
      "only showing top 10 rows\n",
      "\n"
     ]
    },
    {
     "name": "stderr",
     "output_type": "stream",
     "text": [
      "                                                                                \r"
     ]
    }
   ],
   "source": [
    "df.select(\"page_id\", \"title\", \"contributor\", \"categories\", \"revision_ts\") \\\n",
    "  .show(10, truncate=True, vertical=False)"
   ]
  },
  {
   "cell_type": "markdown",
   "id": "bcc965cf",
   "metadata": {},
   "source": [
    "#### Showing the count of the number of rows"
   ]
  },
  {
   "cell_type": "code",
   "execution_count": 95,
   "id": "b4a9290d",
   "metadata": {},
   "outputs": [
    {
     "name": "stderr",
     "output_type": "stream",
     "text": [
      "                                                                                \r"
     ]
    },
    {
     "data": {
      "text/plain": [
       "27376"
      ]
     },
     "execution_count": 95,
     "metadata": {},
     "output_type": "execute_result"
    }
   ],
   "source": [
    "row_count = df.rdd.count()\n",
    "row_count"
   ]
  },
  {
   "cell_type": "markdown",
   "id": "1062197c",
   "metadata": {},
   "source": [
    "#### Showing the number of Dataframe partitions"
   ]
  },
  {
   "cell_type": "code",
   "execution_count": 32,
   "id": "d65dadeb",
   "metadata": {},
   "outputs": [
    {
     "data": {
      "text/plain": [
       "8"
      ]
     },
     "execution_count": 32,
     "metadata": {},
     "output_type": "execute_result"
    }
   ],
   "source": [
    "partitions_count = df.rdd.getNumPartitions()\n",
    "partitions_count"
   ]
  },
  {
   "cell_type": "markdown",
   "id": "ed74f2db",
   "metadata": {},
   "source": [
    "### Page title lengths\n",
    "\n",
    "We will now compute a Dataframe with the first column corresponding to page ID and the second column corresponding to page title length (in the number of words)."
   ]
  },
  {
   "cell_type": "code",
   "execution_count": 33,
   "id": "4516f075",
   "metadata": {},
   "outputs": [],
   "source": [
    "import matplotlib.pyplot as plt\n",
    "import pandas as pd"
   ]
  },
  {
   "cell_type": "code",
   "execution_count": 34,
   "id": "ad6972be",
   "metadata": {},
   "outputs": [],
   "source": [
    "def pagetitle_length(title):\n",
    "    return len(title.split())"
   ]
  },
  {
   "cell_type": "code",
   "execution_count": 35,
   "id": "eb23e928",
   "metadata": {},
   "outputs": [
    {
     "name": "stderr",
     "output_type": "stream",
     "text": [
      "                                                                                \r"
     ]
    }
   ],
   "source": [
    "#computing a Dataframe with the first column corresponding to page ID and the second column corresponding to \n",
    "#page title length (in the number of words).\n",
    "df_title_length = df.rdd.map(lambda x: (x[0], pagetitle_length(x[1]))).toDF([\"page_id\", \"title_length\"])"
   ]
  },
  {
   "cell_type": "markdown",
   "id": "b4844edc",
   "metadata": {},
   "source": [
    "#### Showing the top 10 rows of sorted Dataframe in decreasing order of page title lengths."
   ]
  },
  {
   "cell_type": "code",
   "execution_count": 36,
   "id": "b437b9cc",
   "metadata": {},
   "outputs": [
    {
     "name": "stderr",
     "output_type": "stream",
     "text": [
      "[Stage 19:==================================================>       (7 + 1) / 8]\r"
     ]
    },
    {
     "name": "stdout",
     "output_type": "stream",
     "text": [
      "+-------+------------+\n",
      "|page_id|title_length|\n",
      "+-------+------------+\n",
      "|  28066|          14|\n",
      "|  25165|          14|\n",
      "|   6199|          13|\n",
      "|   6202|          13|\n",
      "|  30702|          13|\n",
      "|  28042|          12|\n",
      "|  31293|          11|\n",
      "|  13458|          11|\n",
      "|  37151|          11|\n",
      "|   4139|          11|\n",
      "+-------+------------+\n",
      "only showing top 10 rows\n",
      "\n"
     ]
    },
    {
     "name": "stderr",
     "output_type": "stream",
     "text": [
      "                                                                                \r"
     ]
    }
   ],
   "source": [
    "df_sorted = df_title_length.orderBy(\"title_length\", ascending=False) \\\n",
    "                           .show(10)"
   ]
  },
  {
   "cell_type": "markdown",
   "id": "666ab3dd",
   "metadata": {},
   "source": [
    "Now, we will show a plot with X-axis: page title length and Y-axis: number of pages with the title length greater than the title length on the X-axis (using log scale for both axes)."
   ]
  },
  {
   "cell_type": "code",
   "execution_count": 37,
   "id": "a32c30c7",
   "metadata": {},
   "outputs": [
    {
     "name": "stderr",
     "output_type": "stream",
     "text": [
      "[Stage 20:==================================================>       (7 + 1) / 8]\r"
     ]
    },
    {
     "name": "stdout",
     "output_type": "stream",
     "text": [
      "+------------+-----+\n",
      "|title_length|count|\n",
      "+------------+-----+\n",
      "|           1| 9784|\n",
      "|           2| 9972|\n",
      "|           3| 4624|\n",
      "|           4| 1571|\n",
      "|           5|  762|\n",
      "|           6|  353|\n",
      "|           7|  199|\n",
      "|           8|   64|\n",
      "|           9|   23|\n",
      "|          10|   11|\n",
      "|          11|    7|\n",
      "|          12|    1|\n",
      "|          13|    3|\n",
      "|          14|    2|\n",
      "+------------+-----+\n",
      "\n"
     ]
    },
    {
     "name": "stderr",
     "output_type": "stream",
     "text": [
      "                                                                                \r"
     ]
    }
   ],
   "source": [
    "titlelength_counts = df_title_length.groupBy(\"title_length\").count().orderBy(\"title_length\")\n",
    "titlelength_counts.show()"
   ]
  },
  {
   "cell_type": "markdown",
   "id": "abbb704b",
   "metadata": {},
   "source": [
    "There are title lengths ranging from one word to 14 words. We now need to plot the number of wiki pages that have a title length GREATER than the title length on the X axis."
   ]
  },
  {
   "cell_type": "code",
   "execution_count": 38,
   "id": "2737b49f",
   "metadata": {},
   "outputs": [
    {
     "name": "stderr",
     "output_type": "stream",
     "text": [
      "                                                                                \r"
     ]
    },
    {
     "data": {
      "text/plain": [
       "[1, 2, 3, 4, 5, 6, 7, 8, 9, 10, 11, 12, 13, 14]"
      ]
     },
     "execution_count": 38,
     "metadata": {},
     "output_type": "execute_result"
    }
   ],
   "source": [
    "x = titlelength_counts.select(\"title_length\").rdd.flatMap(lambda x: x).collect()\n",
    "x"
   ]
  },
  {
   "cell_type": "code",
   "execution_count": 39,
   "id": "c6a949f4",
   "metadata": {},
   "outputs": [
    {
     "name": "stderr",
     "output_type": "stream",
     "text": [
      "                                                                                \r"
     ]
    },
    {
     "data": {
      "text/plain": [
       "[17592, 7620, 2996, 1425, 663, 310, 111, 47, 24, 13, 6, 5, 2, 0]"
      ]
     },
     "execution_count": 39,
     "metadata": {},
     "output_type": "execute_result"
    }
   ],
   "source": [
    "y = [df_title_length.filter(df_title_length[\"title_length\"] > title_length).count() for title_length in x]\n",
    "y"
   ]
  },
  {
   "cell_type": "markdown",
   "id": "b690f4f6",
   "metadata": {},
   "source": [
    "From the values of x and y we can interpret that for shorter title lengths (smaller x values), there are more pages with longer titles, while for longer title lengths (larger x values), there are fewer pages with even longer titles."
   ]
  },
  {
   "cell_type": "code",
   "execution_count": 40,
   "id": "7463ad63",
   "metadata": {},
   "outputs": [
    {
     "data": {
      "image/png": "[encoded data removed]",
      "text/plain": [
       "<Figure size 1000x600 with 1 Axes>"
      ]
     },
     "metadata": {},
     "output_type": "display_data"
    }
   ],
   "source": [
    "plt.figure(figsize=(10, 6))\n",
    "plt.plot(x, y)\n",
    "plt.xlabel(\"Page Title Length (Number of Words)\")\n",
    "plt.ylabel(\"Number of Pages with Title Length > X\")\n",
    "plt.title(\"Number of Pages > Current page title length vs. Current Page Title Length (NO log scales)\")\n",
    "plt.grid(True)\n",
    "plt.show()"
   ]
  },
  {
   "cell_type": "code",
   "execution_count": 41,
   "id": "601b65ac",
   "metadata": {},
   "outputs": [
    {
     "data": {
      "text/plain": [
       "14"
      ]
     },
     "execution_count": 41,
     "metadata": {},
     "output_type": "execute_result"
    }
   ],
   "source": [
    "import math\n",
    "log_x = [math.log(element) for element in x]\n",
    "y_filtered = [element for element in y if element != 0]\n",
    "log_y = [math.log(element) for element in y_filtered]\n",
    "\n",
    "len(log_x)"
   ]
  },
  {
   "cell_type": "code",
   "execution_count": 42,
   "id": "a05170e8",
   "metadata": {},
   "outputs": [
    {
     "data": {
      "text/plain": [
       "14"
      ]
     },
     "execution_count": 42,
     "metadata": {},
     "output_type": "execute_result"
    }
   ],
   "source": [
    "log_y.append(0)\n",
    "len(log_y)"
   ]
  },
  {
   "cell_type": "code",
   "execution_count": 43,
   "id": "6b53d5fc",
   "metadata": {},
   "outputs": [
    {
     "data": {
      "image/png": "[encoded data removed]",
      "text/plain": [
       "<Figure size 1000x600 with 1 Axes>"
      ]
     },
     "metadata": {},
     "output_type": "display_data"
    }
   ],
   "source": [
    "plt.figure(figsize=(10, 6))\n",
    "plt.plot(log_x, log_y)\n",
    "plt.xlabel(\"Page Title Length (Number of Words)\")\n",
    "plt.ylabel(\"Number of Pages with Title Length > X\")\n",
    "plt.title(\"Number of Pages > Current page title length vs. Current Page Title Length (Log Scale)\")\n",
    "plt.grid(True)\n",
    "plt.show()"
   ]
  },
  {
   "cell_type": "markdown",
   "id": "963444e2",
   "metadata": {},
   "source": [
    "As we move along the X-axis, we observe that the log of number of pages with a title length greater than the specified length decreases.\n",
    "\n",
    "We can interpret that shorter titles are definitely more common, which can further be indicative of users being inclined to click on or engage with pages with shorter, more concise titles, leading to a higher prevalence of such pages. We know that the data we are analysing comes from the wikipedia dump dataset, and so, we can also reason that shorter titles may be more favorable for search engine optimization (SEO). Pages with shorter, more relevant titles might rank higher in search engine results, leading to their higher prevalence."
   ]
  },
  {
   "cell_type": "markdown",
   "id": "9bd01eb1",
   "metadata": {},
   "source": [
    "### Content edits over time"
   ]
  },
  {
   "cell_type": "markdown",
   "id": "e683dc52-0986-4670-b824-41a611c82bbf",
   "metadata": {},
   "source": [
    "We will compute the number of pages per revision timestamp sorted in decreasing order of the number of pages."
   ]
  },
  {
   "cell_type": "code",
   "execution_count": 44,
   "id": "0fd545ee",
   "metadata": {},
   "outputs": [],
   "source": [
    "from pyspark.sql.functions import year"
   ]
  },
  {
   "cell_type": "code",
   "execution_count": 45,
   "id": "d5ab2529",
   "metadata": {},
   "outputs": [
    {
     "name": "stderr",
     "output_type": "stream",
     "text": [
      "[Stage 73:==================================================>       (7 + 1) / 8]\r"
     ]
    },
    {
     "name": "stdout",
     "output_type": "stream",
     "text": [
      "+-------------------+-----+\n",
      "|        revision_ts|count|\n",
      "+-------------------+-----+\n",
      "|2002-02-25 15:51:15|   70|\n",
      "|2002-02-25 15:43:11|   29|\n",
      "|2022-07-24 04:23:37|    8|\n",
      "|2021-01-04 12:08:13|    7|\n",
      "|2021-01-04 12:08:11|    6|\n",
      "|2021-01-04 12:08:14|    5|\n",
      "|2024-02-19 18:30:13|    5|\n",
      "|2021-01-04 12:08:12|    5|\n",
      "|2021-08-31 20:08:13|    5|\n",
      "|2024-02-17 19:29:35|    4|\n",
      "|2024-02-07 16:07:10|    3|\n",
      "|2024-02-19 18:29:01|    3|\n",
      "|2024-02-19 17:41:52|    3|\n",
      "|2022-09-24 13:34:32|    3|\n",
      "|2021-01-04 12:08:15|    3|\n",
      "|2023-12-21 15:58:20|    3|\n",
      "|2024-02-04 05:10:21|    2|\n",
      "|2024-02-16 21:10:22|    2|\n",
      "|2024-02-18 18:03:20|    2|\n",
      "|2024-02-15 23:45:24|    2|\n",
      "+-------------------+-----+\n",
      "only showing top 20 rows\n",
      "\n"
     ]
    },
    {
     "name": "stderr",
     "output_type": "stream",
     "text": [
      "                                                                                \r"
     ]
    }
   ],
   "source": [
    "pages_per_timestamp = df.groupBy(\"revision_ts\").count().orderBy(\"count\", ascending=False) \\\n",
    "                        .show(20)"
   ]
  },
  {
   "cell_type": "code",
   "execution_count": 46,
   "id": "d65d4da4",
   "metadata": {},
   "outputs": [
    {
     "name": "stderr",
     "output_type": "stream",
     "text": [
      "[Stage 76:==================================================>       (7 + 1) / 8]\r"
     ]
    },
    {
     "name": "stdout",
     "output_type": "stream",
     "text": [
      "+----+-----+\n",
      "|year|count|\n",
      "+----+-----+\n",
      "|2002|  238|\n",
      "|2003|  161|\n",
      "|2004|  168|\n",
      "|2005|  186|\n",
      "|2006|  227|\n",
      "|2007|  116|\n",
      "|2008|  130|\n",
      "|2009|  165|\n",
      "|2010|  193|\n",
      "|2011|  125|\n",
      "|2012|  434|\n",
      "|2013|   97|\n",
      "|2014|   91|\n",
      "|2015|   79|\n",
      "|2016|  111|\n",
      "|2017| 1298|\n",
      "|2018|  376|\n",
      "|2019|  256|\n",
      "|2020|  701|\n",
      "|2021|  591|\n",
      "+----+-----+\n",
      "only showing top 20 rows\n",
      "\n"
     ]
    },
    {
     "name": "stderr",
     "output_type": "stream",
     "text": [
      "                                                                                \r"
     ]
    }
   ],
   "source": [
    "# Computing the number of pages per year, sorted in increasing order of years.\n",
    "pages_per_year = df.withColumn(\"year\", year(\"revision_ts\")).groupBy(\"year\").count().orderBy(\"year\") \\\n",
    "                   .show(20)"
   ]
  },
  {
   "cell_type": "markdown",
   "id": "90419bd0",
   "metadata": {},
   "source": [
    "### P2.4 Number of categories versus text length"
   ]
  },
  {
   "cell_type": "code",
   "execution_count": 47,
   "id": "331c6c90",
   "metadata": {},
   "outputs": [],
   "source": [
    "#creating a Dataframe from the RDD with two columns, one for page ID and the other for the text length of Wikipedia pages\n",
    "def new_df(row):\n",
    "    return (page_id(row), len(row.split()))"
   ]
  },
  {
   "cell_type": "code",
   "execution_count": 48,
   "id": "e8231f65",
   "metadata": {},
   "outputs": [
    {
     "name": "stderr",
     "output_type": "stream",
     "text": [
      "[Stage 80:==================================================>       (7 + 1) / 8]\r"
     ]
    },
    {
     "name": "stdout",
     "output_type": "stream",
     "text": [
      "+-------+-----------+\n",
      "|page_id|text_length|\n",
      "+-------+-----------+\n",
      "|  32817|      49974|\n",
      "|  39582|      49742|\n",
      "+-------+-----------+\n",
      "only showing top 2 rows\n",
      "\n"
     ]
    },
    {
     "name": "stderr",
     "output_type": "stream",
     "text": [
      "                                                                                \r"
     ]
    }
   ],
   "source": [
    "my_df = rdd2.map(new_df) \\\n",
    "            .toDF(['page_id', 'text_length']) \\\n",
    "            .orderBy('text_length', ascending=False)\n",
    "my_df.show(2)"
   ]
  },
  {
   "cell_type": "code",
   "execution_count": 49,
   "id": "5ad43ad8",
   "metadata": {},
   "outputs": [
    {
     "name": "stderr",
     "output_type": "stream",
     "text": [
      "                                                                                \r"
     ]
    },
    {
     "name": "stdout",
     "output_type": "stream",
     "text": [
      "+-------+-------------+--------------------+--------------------+-------------------+-----------+\n",
      "|page_id|        title|         contributor|          categories|        revision_ts|text_length|\n",
      "+-------+-------------+--------------------+--------------------+-------------------+-----------+\n",
      "|     29|AlbaniaPeople|[{9784415, Tom.Re...|                  []|2017-06-05 04:20:05|         37|\n",
      "|   1677| Alfonso XIII|  [{2387872, DrKay}]|[Alfonso XIII of ...|2024-02-18 07:55:41|       7376|\n",
      "+-------+-------------+--------------------+--------------------+-------------------+-----------+\n",
      "only showing top 2 rows\n",
      "\n"
     ]
    }
   ],
   "source": [
    "page_cat_len = df.join(my_df, on='page_id', how='inner')\n",
    "page_cat_len.show(2)"
   ]
  },
  {
   "cell_type": "markdown",
   "id": "136b18de",
   "metadata": {},
   "source": [
    "#### Showing the top 20 rows of the new required dataframe sorted in decreasing order of page text lengths."
   ]
  },
  {
   "cell_type": "code",
   "execution_count": 50,
   "id": "87fc4ad9",
   "metadata": {},
   "outputs": [
    {
     "name": "stderr",
     "output_type": "stream",
     "text": [
      "[Stage 92:>                                                         (0 + 1) / 1]\r"
     ]
    },
    {
     "name": "stdout",
     "output_type": "stream",
     "text": [
      "+-------+--------------+-----------+\n",
      "|page_id|category_count|text_length|\n",
      "+-------+--------------+-----------+\n",
      "|  32817|            61|      49974|\n",
      "|  39582|             1|      49742|\n",
      "|  14604|             2|      44304|\n",
      "|  39070|            22|      44093|\n",
      "|  10152|            42|      43668|\n",
      "|  12686|             4|      43506|\n",
      "|  13224|             2|      42894|\n",
      "|  34579|             5|      42804|\n",
      "|  25074|             5|      42600|\n",
      "|  26847|             7|      40528|\n",
      "|  14889|            19|      39429|\n",
      "|  27034|             7|      39146|\n",
      "|  18524|             2|      38948|\n",
      "|  23235|            19|      38586|\n",
      "|   7023|            15|      38322|\n",
      "|  14532|            13|      37254|\n",
      "|  13458|             1|      37221|\n",
      "|  21217|             8|      36673|\n",
      "|  13913|            34|      36458|\n",
      "|  14653|            21|      36380|\n",
      "+-------+--------------+-----------+\n",
      "only showing top 20 rows\n",
      "\n"
     ]
    },
    {
     "name": "stderr",
     "output_type": "stream",
     "text": [
      "                                                                                \r"
     ]
    }
   ],
   "source": [
    "num_cat = sql_f.udf(lambda x: len(x), IntegerType())\n",
    "output = page_cat_len.withColumn('category_count', num_cat(page_cat_len['categories'])) \\\n",
    "                     .orderBy('text_length', ascending=False)\n",
    "output = output.select('page_id','category_count','text_length')\n",
    "output.show(20)"
   ]
  },
  {
   "cell_type": "markdown",
   "id": "d823554c",
   "metadata": {},
   "source": [
    "#### Showing a plot of the number of categories versus the page text length"
   ]
  },
  {
   "cell_type": "code",
   "execution_count": 51,
   "id": "ddefa75e",
   "metadata": {},
   "outputs": [
    {
     "name": "stderr",
     "output_type": "stream",
     "text": [
      "                                                                                \r"
     ]
    }
   ],
   "source": [
    "x = output.select(\"text_length\").rdd.flatMap(lambda x: x).collect()\n",
    "y = output.select('category_count').rdd.flatMap(lambda x: x).collect()"
   ]
  },
  {
   "cell_type": "code",
   "execution_count": 52,
   "id": "704851c7",
   "metadata": {},
   "outputs": [
    {
     "data": {
      "text/plain": [
       "[49974,\n",
       " 49742,\n",
       " 44304,\n",
       " 44093,\n",
       " 43668,\n",
       " 43506,\n",
       " 42894,\n",
       " 42804,\n",
       " 42600,\n",
       " 40528,\n",
       " 39429,\n",
       " 39146,\n",
       " 38948,\n",
       " 38586,\n",
       " 38322,\n",
       " 37254,\n",
       " 37221,\n",
       " 36673,\n",
       " 36458,\n",
       " 36380]"
      ]
     },
     "execution_count": 52,
     "metadata": {},
     "output_type": "execute_result"
    }
   ],
   "source": [
    "x[0:20]"
   ]
  },
  {
   "cell_type": "code",
   "execution_count": 53,
   "id": "f2cc654f",
   "metadata": {},
   "outputs": [
    {
     "data": {
      "text/plain": [
       "[61, 1, 2, 22, 42, 4, 2, 5, 5, 7, 19, 7, 2, 19, 15, 13, 1, 8, 34, 21]"
      ]
     },
     "execution_count": 53,
     "metadata": {},
     "output_type": "execute_result"
    }
   ],
   "source": [
    "y[0:20]"
   ]
  },
  {
   "cell_type": "code",
   "execution_count": 54,
   "id": "e71003b3",
   "metadata": {},
   "outputs": [
    {
     "data": {
      "image/png": "[encoded data removed]",
      "text/plain": [
       "<Figure size 1000x600 with 1 Axes>"
      ]
     },
     "metadata": {},
     "output_type": "display_data"
    }
   ],
   "source": [
    "plt.figure(figsize=(10, 6))\n",
    "plt.plot(x, y)\n",
    "plt.xlabel(\"Page Text Length\")\n",
    "plt.ylabel(\"Number of Categories\")\n",
    "plt.title(\"Plot of the Number of Categories v/s the Page Text Length\")\n",
    "plt.grid(True)\n",
    "plt.show()"
   ]
  },
  {
   "cell_type": "markdown",
   "id": "3958841e",
   "metadata": {},
   "source": [
    "## P3 Spark SQL and Dataframes\n",
    "\n",
    "### P3.1 A Spark SQL range query"
   ]
  },
  {
   "cell_type": "code",
   "execution_count": 55,
   "id": "b3f328c2",
   "metadata": {},
   "outputs": [
    {
     "name": "stdout",
     "output_type": "stream",
     "text": [
      "+-------+--------------------+--------------------+--------------------+-------------------+\n",
      "|page_id|               title|         contributor|          categories|        revision_ts|\n",
      "+-------+--------------------+--------------------+--------------------+-------------------+\n",
      "|     10| AccessibleComputing|  [{20842734, Elli}]|                  []|2021-01-23 15:15:01|\n",
      "|     12|           Anarchism|    [{244263, Czar}]|[Anarchism| , Ant...|2024-02-17 15:33:05|\n",
      "|     13|  AfghanistanHistory|[{9784415, Tom.Re...|                  []|2017-06-05 04:18:18|\n",
      "|     14|AfghanistanGeography|[{9784415, Tom.Re...|                  []|2017-06-05 04:18:23|\n",
      "|     15|   AfghanistanPeople|[{9784415, Tom.Re...|                  []|2017-06-05 04:19:42|\n",
      "|     18|AfghanistanCommun...|[{9784415, Tom.Re...|                  []|2017-06-05 04:19:45|\n",
      "|     19|AfghanistanTransp...|[{9784415, Tom.Re...|                  []|2017-06-04 21:42:11|\n",
      "|     20| AfghanistanMilitary|  [{8066546, Xqbot}]|                  []|2022-12-02 12:29:21|\n",
      "|     21|AfghanistanTransn...|[{9784415, Tom.Re...|                  []|2017-06-04 21:43:14|\n",
      "|     23| AssistiveTechnology|[{9784415, Tom.Re...|                  []|2017-06-05 04:19:50|\n",
      "+-------+--------------------+--------------------+--------------------+-------------------+\n",
      "only showing top 10 rows\n",
      "\n"
     ]
    }
   ],
   "source": [
    "df.show(10)"
   ]
  },
  {
   "cell_type": "markdown",
   "id": "f25ab29c",
   "metadata": {},
   "source": [
    "Creating a temporary view for the Dataframe created before:"
   ]
  },
  {
   "cell_type": "code",
   "execution_count": 56,
   "id": "126e0362",
   "metadata": {},
   "outputs": [],
   "source": [
    "df.createOrReplaceTempView('mydata')"
   ]
  },
  {
   "cell_type": "markdown",
   "id": "12e666c7",
   "metadata": {},
   "source": [
    "Spark SQL query to select top 20 rows which correspond to pages that were revised in January of 2023, ordered by revision time in decreasing order:"
   ]
  },
  {
   "cell_type": "code",
   "execution_count": 57,
   "id": "e67a2d4f",
   "metadata": {},
   "outputs": [
    {
     "name": "stderr",
     "output_type": "stream",
     "text": [
      "[Stage 116:==========================================>              (6 + 2) / 8]\r"
     ]
    },
    {
     "name": "stdout",
     "output_type": "stream",
     "text": [
      "+-------+--------------------+--------------------+--------------------+-------------------+\n",
      "|page_id|               title|         contributor|          categories|        revision_ts|\n",
      "+-------+--------------------+--------------------+--------------------+-------------------+\n",
      "|  25296|                Quid|[{40908735, Caleb...|                  []|2023-01-31 22:53:45|\n",
      "|   5334|Telecommunication...|[{211905, Bruce1ee}]|[Telecommunicatio...|2023-01-31 17:14:34|\n",
      "|   3681|Telecommunication...|[{211905, Bruce1ee}]|[Telecommunicatio...|2023-01-31 17:13:41|\n",
      "|   5453|Telecommunication...|[{211905, Bruce1ee}]|[Telecommunicatio...|2023-01-31 17:11:35|\n",
      "|  27314|Telecommunication...|[{211905, Bruce1ee}]|[Telecommunicatio...|2023-01-31 15:51:17|\n",
      "|  12192|Telecommunication...|[{211905, Bruce1ee}]|[Telecommunicatio...|2023-01-31 15:41:34|\n",
      "|  12162|Telecommunication...|[{211905, Bruce1ee}]|[Communications i...|2023-01-31 15:40:43|\n",
      "|  12033|Telecommunication...|[{211905, Bruce1ee}]|[Telecommunicatio...|2023-01-31 15:40:23|\n",
      "|  27457|Telecommunication...|[{211905, Bruce1ee}]|[Telecommunicatio...|2023-01-31 15:40:02|\n",
      "|  18581|             Limburg|      [{null, null}]|                  []|2023-01-31 02:07:28|\n",
      "|  41102|Electronic warfar...|      [{null, null}]|[Military technol...|2023-01-31 00:42:26|\n",
      "|  25837|          Rolf Ekéus|[{3427741, Marbe1...|[1935 births, Liv...|2023-01-30 20:35:31|\n",
      "|  26041|              RPGnet| [{28481209, OAbot}]|[Role-playing gam...|2023-01-30 04:23:06|\n",
      "|  39910|                1427|[{1568174, Histry...|            [1427| ]|2023-01-29 19:36:14|\n",
      "|  25017|Positivism (disam...|      [{null, null}]|                  []|2023-01-29 10:42:44|\n",
      "|  35053|                1142|[{7506477, Peters...|            [1142| ]|2023-01-28 18:30:31|\n",
      "|  27297|Serbia and Monten...|  [{8066546, Xqbot}]|                  []|2023-01-28 12:18:58|\n",
      "|  34370|Geography of Serb...|  [{8066546, Xqbot}]|                  []|2023-01-28 00:27:05|\n",
      "|  27290|Serbia and Monten...|  [{8066546, Xqbot}]|                  []|2023-01-28 00:27:00|\n",
      "|  39895|                1411|[{1568174, Histry...|            [1411| ]|2023-01-27 00:29:52|\n",
      "+-------+--------------------+--------------------+--------------------+-------------------+\n",
      "only showing top 20 rows\n",
      "\n"
     ]
    },
    {
     "name": "stderr",
     "output_type": "stream",
     "text": [
      "                                                                                \r"
     ]
    }
   ],
   "source": [
    "spark.sql('''SELECT *\n",
    "    FROM mydata\n",
    "    WHERE revision_ts >= '2023-01-01 00:00:00' AND revision_ts < '2023-02-01 00:00:00'\n",
    "    ORDER BY revision_ts DESC\n",
    "''').show(20)"
   ]
  },
  {
   "cell_type": "markdown",
   "id": "0c06ddfe",
   "metadata": {},
   "source": [
    "Spark SQL query to count the number of pages that were revised in January 2023 and showing the count:"
   ]
  },
  {
   "cell_type": "code",
   "execution_count": 58,
   "id": "59d0255f",
   "metadata": {},
   "outputs": [
    {
     "name": "stderr",
     "output_type": "stream",
     "text": [
      "[Stage 117:=================================================>       (7 + 1) / 8]\r"
     ]
    },
    {
     "name": "stdout",
     "output_type": "stream",
     "text": [
      "+-----+\n",
      "|count|\n",
      "+-----+\n",
      "|  107|\n",
      "+-----+\n",
      "\n"
     ]
    },
    {
     "name": "stderr",
     "output_type": "stream",
     "text": [
      "                                                                                \r"
     ]
    }
   ],
   "source": [
    "spark.sql('''\n",
    "    SELECT COUNT(*) AS count\n",
    "    FROM mydata\n",
    "    WHERE revision_ts >= '2023-01-01 00:00:00' AND revision_ts < '2023-02-01 00:00:00'\n",
    "''').show()"
   ]
  },
  {
   "cell_type": "markdown",
   "id": "4b330485",
   "metadata": {},
   "source": [
    "### Page Categories"
   ]
  },
  {
   "cell_type": "markdown",
   "id": "d8d9be74",
   "metadata": {},
   "source": [
    "Finding the top 20 rows of distinct categories in df, the number of pages per distinct category, with rows sorted in decreasing order of the second column values:"
   ]
  },
  {
   "cell_type": "code",
   "execution_count": 59,
   "id": "755a7ba6",
   "metadata": {},
   "outputs": [],
   "source": [
    "from pyspark.sql.functions import explode, count, col"
   ]
  },
  {
   "cell_type": "code",
   "execution_count": 60,
   "id": "6c720262",
   "metadata": {},
   "outputs": [],
   "source": [
    "df1 = df.select(explode(\"categories\").alias(\"distinct_category\")) \n",
    "category_count_df = df1.groupBy('distinct_category').agg(count('*').alias('pages_count'))\n",
    "sorted_category_count_df = category_count_df.orderBy(col('pages_count').desc())"
   ]
  },
  {
   "cell_type": "code",
   "execution_count": 61,
   "id": "d8dea21e",
   "metadata": {},
   "outputs": [
    {
     "name": "stderr",
     "output_type": "stream",
     "text": [
      "[Stage 120:=================================================>       (7 + 1) / 8]\r"
     ]
    },
    {
     "name": "stdout",
     "output_type": "stream",
     "text": [
      "+--------------------+-----------+\n",
      "|   distinct_category|pages_count|\n",
      "+--------------------+-----------+\n",
      "|Articles containi...|        616|\n",
      "|       Living people|        582|\n",
      "|    Days of the year|        445|\n",
      "|20th-century Amer...|        193|\n",
      "|               Popes|        165|\n",
      "|Year of birth unk...|        154|\n",
      "|Member states of ...|        137|\n",
      "|20th-century Amer...|        128|\n",
      "|American male nov...|        117|\n",
      "|Members of the Am...|        117|\n",
      "|American male non...|        114|\n",
      "|       Italian popes|        111|\n",
      "|American people o...|        110|\n",
      "|American male fil...|        107|\n",
      "|20th-century Amer...|        106|\n",
      "|Fellows of the Am...|        104|\n",
      "|Leap years in the...|        102|\n",
      "|Fellows of the Ro...|        101|\n",
      "| American inventions|        101|\n",
      "|Grammy Award winners|        100|\n",
      "+--------------------+-----------+\n",
      "only showing top 20 rows\n",
      "\n"
     ]
    },
    {
     "name": "stderr",
     "output_type": "stream",
     "text": [
      "                                                                                \r"
     ]
    }
   ],
   "source": [
    "category_count_df = df1.groupBy('distinct_category').agg(count('*').alias('pages_count')) \\\n",
    "                       .orderBy('pages_count', ascending=False) \\\n",
    "                       .show(20)"
   ]
  },
  {
   "cell_type": "markdown",
   "id": "df2d3552",
   "metadata": {},
   "source": [
    "Spark SQL query to count the number of pages per category and showing the results in decreasing order of this count:"
   ]
  },
  {
   "cell_type": "code",
   "execution_count": 62,
   "id": "a4f6f601",
   "metadata": {},
   "outputs": [],
   "source": [
    "df2 = df.select(col(\"page_id\").alias('pid'), explode(col(\"categories\")).alias(\"cat\"))\n",
    "df2.createOrReplaceTempView(\"wiki_cat\")"
   ]
  },
  {
   "cell_type": "code",
   "execution_count": 63,
   "id": "8fdb7fd2",
   "metadata": {},
   "outputs": [
    {
     "name": "stdout",
     "output_type": "stream",
     "text": [
      "+---+--------------------+\n",
      "|pid|                 cat|\n",
      "+---+--------------------+\n",
      "| 12|         Anarchism| |\n",
      "| 12|     Anti-capitalism|\n",
      "| 12|        Anti-fascism|\n",
      "| 12| Economic ideologies|\n",
      "| 12|   Far-left politics|\n",
      "| 12|  Left-wing politics|\n",
      "| 12|Libertarian socia...|\n",
      "| 12|      Libertarianism|\n",
      "| 12|   Political culture|\n",
      "| 12|Political ideologies|\n",
      "| 12| Political movements|\n",
      "| 12|     Social theories|\n",
      "| 12|           Socialism|\n",
      "| 25|    1910s neologisms|\n",
      "| 39|Land surface effe...|\n",
      "| 39|Climate change fe...|\n",
      "| 39|     Climate forcing|\n",
      "| 39|         Climatology|\n",
      "| 39|Electromagnetic r...|\n",
      "| 39|Meteorological qu...|\n",
      "+---+--------------------+\n",
      "only showing top 20 rows\n",
      "\n"
     ]
    }
   ],
   "source": [
    "df2.show()"
   ]
  },
  {
   "cell_type": "code",
   "execution_count": 64,
   "id": "9e423e9d",
   "metadata": {},
   "outputs": [
    {
     "name": "stderr",
     "output_type": "stream",
     "text": [
      "[Stage 126:============================>                            (2 + 2) / 4]\r"
     ]
    },
    {
     "name": "stdout",
     "output_type": "stream",
     "text": [
      "+--------------------+----------+\n",
      "|                 cat|page_count|\n",
      "+--------------------+----------+\n",
      "|Articles containi...|       616|\n",
      "|       Living people|       582|\n",
      "|    Days of the year|       355|\n",
      "|20th-century Amer...|       193|\n",
      "|               Popes|       165|\n",
      "|Year of birth unk...|       154|\n",
      "|Member states of ...|       137|\n",
      "|20th-century Amer...|       128|\n",
      "|Members of the Am...|       117|\n",
      "|American male nov...|       117|\n",
      "|American male non...|       114|\n",
      "|       Italian popes|       111|\n",
      "|American people o...|       110|\n",
      "|American male fil...|       107|\n",
      "|20th-century Amer...|       106|\n",
      "|Fellows of the Am...|       104|\n",
      "|Leap years in the...|       102|\n",
      "| American inventions|       101|\n",
      "|Fellows of the Ro...|       101|\n",
      "|Grammy Award winners|       100|\n",
      "+--------------------+----------+\n",
      "only showing top 20 rows\n",
      "\n"
     ]
    },
    {
     "name": "stderr",
     "output_type": "stream",
     "text": [
      "                                                                                \r"
     ]
    }
   ],
   "source": [
    "spark.sql('''\n",
    "    SELECT cat, COUNT(DISTINCT pid) AS page_count\n",
    "    FROM wiki_cat\n",
    "    GROUP BY cat\n",
    "    ORDER BY page_count DESC\n",
    "'''\n",
    ").show()"
   ]
  },
  {
   "cell_type": "markdown",
   "id": "e28a1e40",
   "metadata": {},
   "source": [
    "### Saving a table"
   ]
  },
  {
   "cell_type": "code",
   "execution_count": 71,
   "id": "76014bd3",
   "metadata": {},
   "outputs": [],
   "source": [
    "from pyspark.sql.functions import year, month"
   ]
  },
  {
   "cell_type": "code",
   "execution_count": 72,
   "id": "c507e310",
   "metadata": {},
   "outputs": [],
   "source": [
    "save_tab = df.withColumn('ts_year', year('revision_ts')) \\\n",
    "            .withColumn('ts_month', month('revision_ts'))"
   ]
  },
  {
   "cell_type": "code",
   "execution_count": 73,
   "id": "2be18cb4",
   "metadata": {},
   "outputs": [
    {
     "name": "stderr",
     "output_type": "stream",
     "text": [
      "                                                                                \r"
     ]
    }
   ],
   "source": [
    "save_tab.write.mode(\"overwrite\").partitionBy(\"ts_year\", \"ts_month\").saveAsTable(\"wikipersisted\")"
   ]
  },
  {
   "cell_type": "code",
   "execution_count": 74,
   "id": "32cbf98d",
   "metadata": {},
   "outputs": [],
   "source": [
    "save_tab = spark.read.table(\"wikipersisted\")"
   ]
  },
  {
   "cell_type": "code",
   "execution_count": 75,
   "id": "ca3f8933",
   "metadata": {},
   "outputs": [
    {
     "name": "stderr",
     "output_type": "stream",
     "text": [
      "                                                                                \r"
     ]
    },
    {
     "name": "stdout",
     "output_type": "stream",
     "text": [
      "+-------+--------------------+--------------------+--------------------+-------------------+-------+--------+\n",
      "|page_id|               title|         contributor|          categories|        revision_ts|ts_year|ts_month|\n",
      "+-------+--------------------+--------------------+--------------------+-------------------+-------+--------+\n",
      "|  15665|  Economy of Jamaica|[{372290, Nikkima...|[Economy of Jamai...|2024-02-02 00:46:55|   2024|       2|\n",
      "|  15673|           Jan Mayen|[{27015025, Inter...|[Jan Mayen| , 161...|2024-02-11 02:10:03|   2024|       2|\n",
      "|  15683|       Jarvis Island|[{35936988, JJMC8...|[Jarvis Island| ,...|2024-02-10 22:34:30|   2024|       2|\n",
      "|  15696|Demography of Jersey|[{17216044, RMCD ...|[Demographics of ...|2024-02-01 02:37:20|   2024|       2|\n",
      "|  15697|  Politics of Jersey|[{7611264, Anomie...|[Politics of Jers...|2024-02-07 11:25:22|   2024|       2|\n",
      "|  15698|   Economy of Jersey|[{25082147, Mazew...|[Economy of Jerse...|2024-02-13 18:05:45|   2024|       2|\n",
      "|  15704|      Johnston Atoll|      [{null, null}]|[Johnston Atoll| ...|2024-02-18 07:29:54|   2024|       2|\n",
      "|  15717|Demographics of J...|[{22078666, Makea...|[Demographics of ...|2024-02-12 09:12:14|   2024|       2|\n",
      "|  15719|   Economy of Jordan|      [{null, null}]|[Economy of Jorda...|2024-02-16 11:11:41|   2024|       2|\n",
      "|  15723|Foreign relations...|[{29463730, Prime...|[Foreign relation...|2024-02-13 17:13:12|   2024|       2|\n",
      "|  15736|     Johannes Kepler|[{35936988, JJMC8...|[Johannes Kepler|...|2024-02-15 04:42:07|   2024|       2|\n",
      "|  15739|           Jewellery|[{6908984, MrOllie}]|[Jewellery| , Fas...|2024-02-16 22:08:44|   2024|       2|\n",
      "|  15744|        Jim Jarmusch|[{35936988, JJMC8...|[1953 births, Ame...|2024-02-08 01:02:52|   2024|       2|\n",
      "|  15745|  Johannes Gutenberg| [{34452882, Aza24}]|[Johannes Gutenbe...|2024-02-02 04:55:06|   2024|       2|\n",
      "|  15746|       Jacques Mayol|      [{null, null}]|[1927 births, 200...|2024-02-06 16:09:14|   2024|       2|\n",
      "|  15747|      Josef Terboven|      [{null, null}]|[1898 births, 194...|2024-02-11 20:14:28|   2024|       2|\n",
      "|  15766|         James Brown|[{26270848, Wjp11...|[James Brown| , 1...|2024-02-20 04:58:44|   2024|       2|\n",
      "|  15767|          Jon Postel|[{62026, OwenBlac...|[1943 births, 199...|2024-02-14 10:02:58|   2024|       2|\n",
      "|  15769|             Julmust|[{4362376, Editor...|[Christmas food, ...|2024-02-18 21:13:50|   2024|       2|\n",
      "|  15772|             Jackson|[{43021816, Shado...|                  []|2024-02-14 16:23:24|   2024|       2|\n",
      "+-------+--------------------+--------------------+--------------------+-------------------+-------+--------+\n",
      "only showing top 20 rows\n",
      "\n"
     ]
    }
   ],
   "source": [
    "save_tab.show(20)"
   ]
  },
  {
   "cell_type": "code",
   "execution_count": 76,
   "id": "078663d4",
   "metadata": {},
   "outputs": [
    {
     "name": "stdout",
     "output_type": "stream",
     "text": [
      "+--------------------+--------------------+-------+\n",
      "|            col_name|           data_type|comment|\n",
      "+--------------------+--------------------+-------+\n",
      "|             page_id|              bigint|   null|\n",
      "|               title|              string|   null|\n",
      "|         contributor|array<struct<cont...|   null|\n",
      "|          categories|       array<string>|   null|\n",
      "|         revision_ts|           timestamp|   null|\n",
      "|             ts_year|                 int|   null|\n",
      "|            ts_month|                 int|   null|\n",
      "|# Partition Infor...|                    |       |\n",
      "|          # col_name|           data_type|comment|\n",
      "|             ts_year|                 int|   null|\n",
      "|            ts_month|                 int|   null|\n",
      "|                    |                    |       |\n",
      "|# Detailed Table ...|                    |       |\n",
      "|            Database|             default|       |\n",
      "|               Table|       wikipersisted|       |\n",
      "|               Owner|                root|       |\n",
      "|        Created Time|Fri Feb 23 14:40:...|       |\n",
      "|         Last Access|             UNKNOWN|       |\n",
      "|          Created By|         Spark 3.3.2|       |\n",
      "|                Type|             MANAGED|       |\n",
      "+--------------------+--------------------+-------+\n",
      "only showing top 20 rows\n",
      "\n"
     ]
    }
   ],
   "source": [
    "spark.sql(\"DESCRIBE EXTENDED wikipersisted;\").show()"
   ]
  },
  {
   "cell_type": "markdown",
   "id": "86df4253",
   "metadata": {},
   "source": [
    "The output of spark.sql(\"DESCRIBE EXTENDED wikipersisted;\") can be explained as follows:\n",
    "\n",
    "Column Information:\n",
    "- col_name: Name of the column\n",
    "- data_type: Data type of the column\n",
    "- comment: Any additional comments or descriptions about the column\n",
    "\n",
    "We can also see # Partition Information. In this case, the table is partitioned by the column names ts_year and ts_month.\n",
    "\n",
    "We can also see # Detailed Table... (Information) which provides detailed information about the table itself, including its database, owner, creation time, access time, type, location, provider (e.g., parquet), serde library, input and output formats, and partition provider."
   ]
  }
 ],
 "metadata": {
  "kernelspec": {
   "display_name": "Python 3 (ipykernel)",
   "language": "python",
   "name": "python3"
  },
  "language_info": {
   "codemirror_mode": {
    "name": "ipython",
    "version": 3
   },
   "file_extension": ".py",
   "mimetype": "text/x-python",
   "name": "python",
   "nbconvert_exporter": "python",
   "pygments_lexer": "ipython3",
   "version": "3.12.4"
  }
 },
 "nbformat": 4,
 "nbformat_minor": 5
}
